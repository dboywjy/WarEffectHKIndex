{
 "cells": [
  {
   "cell_type": "code",
   "execution_count": 3,
   "metadata": {},
   "outputs": [
    {
     "data": {
      "image/png": "[encoded data removed]",
      "text/plain": [
       "Plot with title \"Probability Density Plot\""
      ]
     },
     "metadata": {
      "image/png": {
       "height": 420,
       "width": 420
      }
     },
     "output_type": "display_data"
    }
   ],
   "source": [
    "# 生成示例数据\n",
    "data1 <- rnorm(1000)  # 生成1000个符合标准正态分布的随机数\n",
    "data2 <- rnorm(500)\n",
    "# 计算概率密度估计\n",
    "density_est1 <- density(data1)\n",
    "density_est2 <- density(data2)\n",
    "\n",
    "# 绘制概率密度图\n",
    "plot(density_est1, main = \"Probability Density Plot\", xlab = \"X\", ylab = \"Density\")\n",
    "# 绘制第一个概率密度图\n",
    "# plot(density_est1, main = \"Probability Density Comparison\", xlab = \"X\", ylab = \"Density\")\n",
    "\n",
    "# 将第二个概率密度图添加到图上\n",
    "lines(density_est2, col = \"red\")"
   ]
  },
  {
   "cell_type": "code",
   "execution_count": 4,
   "metadata": {},
   "outputs": [],
   "source": [
    "# overall\n",
    "energy <- read.table(\"../data/residuals_energy.txt\", header = TRUE)\n",
    "energy_all_res = energy$x\n",
    "finance <- read.table(\"../data/residuals_finance.txt\", header = TRUE)\n",
    "finance_all_res = finance$V1"
   ]
  },
  {
   "cell_type": "code",
   "execution_count": 5,
   "metadata": {},
   "outputs": [],
   "source": [
    "# before\n",
    "energy <- read.table(\"../data/residuals_energy_FY.txt\", header = TRUE)\n",
    "energy_before_res = energy$V1\n",
    "fn <- read.table(\"../data/residuals_finance_FY.txt\", header = TRUE)\n",
    "finance_before_res = fn$V1"
   ]
  },
  {
   "cell_type": "code",
   "execution_count": 6,
   "metadata": {},
   "outputs": [],
   "source": [
    "# after\n",
    "energy = read.table(\"../data/hcx_residuals_energy_after_event.txt\")\n",
    "energy_after_res = energy$V1\n",
    "library(\"readxl\")\n",
    "\n",
    "finance = read_excel(\"../data/standardized_residual_Finance.xlsx\")\n",
    "finance_after_res = finance$V1"
   ]
  },
  {
   "cell_type": "code",
   "execution_count": 8,
   "metadata": {},
   "outputs": [],
   "source": [
    "# standize\n",
    "energy_all_res = (energy_all_res - mean(energy_all_res))/sd(energy_all_res)\n",
    "finance_all_res = (finance_all_res - mean(finance_all_res))/sd(finance_all_res)"
   ]
  },
  {
   "cell_type": "code",
   "execution_count": 10,
   "metadata": {},
   "outputs": [],
   "source": [
    "# standize\n",
    "energy_before_res = (energy_before_res - mean(energy_before_res))/sd(energy_before_res)\n",
    "finance_before_res = (finance_before_res - mean(finance_before_res))/sd(finance_before_res)"
   ]
  },
  {
   "cell_type": "code",
   "execution_count": 18,
   "metadata": {},
   "outputs": [
    {
     "data": {
      "text/html": [
       "160"
      ],
      "text/latex": [
       "160"
      ],
      "text/markdown": [
       "160"
      ],
      "text/plain": [
       "[1] 160"
      ]
     },
     "metadata": {},
     "output_type": "display_data"
    },
    {
     "data": {
      "text/html": [
       "472"
      ],
      "text/latex": [
       "472"
      ],
      "text/markdown": [
       "472"
      ],
      "text/plain": [
       "[1] 472"
      ]
     },
     "metadata": {},
     "output_type": "display_data"
    },
    {
     "data": {
      "text/html": [
       "490"
      ],
      "text/latex": [
       "490"
      ],
      "text/markdown": [
       "490"
      ],
      "text/plain": [
       "[1] 490"
      ]
     },
     "metadata": {},
     "output_type": "display_data"
    }
   ],
   "source": [
    "length(energy_all_res)\n",
    "length(energy_before_res)\n",
    "length(energy_after_res)"
   ]
  },
  {
   "cell_type": "code",
   "execution_count": 23,
   "metadata": {},
   "outputs": [
    {
     "data": {
      "image/png": "[encoded data removed]",
      "text/plain": [
       "plot without title"
      ]
     },
     "metadata": {
      "image/png": {
       "height": 240,
       "width": 600
      }
     },
     "output_type": "display_data"
    }
   ],
   "source": [
    "library(ggplot2)\n",
    "library(gridExtra)\n",
    "\n",
    "energy_data = data.frame(res=c(energy_all_res, energy_before_res, energy_after_res), type=c(rep('all', 160), rep('before', 472), rep('after', 490)))\n",
    "\n",
    "# 预处理：将smoke变量转换为因子类型\n",
    "energy_data$type = factor(energy_data$type)\n",
    " \n",
    "# 基函数：x设置目标变量，fill设置填充色\n",
    "p1 = ggplot(energy_data, aes(x = res, fill = type)) +\n",
    "  # 密度曲线函数：alpha设置填充色透明度\n",
    "  geom_density(alpha = 0.3) +\n",
    "  labs(title = \"Density Plot of Energy Data\")\n",
    "\n",
    "finance_data = data.frame(res=c(finance_all_res, finance_before_res, finance_after_res), type=c(rep('all', 160), rep('before', 472), rep('after', 490)))\n",
    "\n",
    "# 预处理：将smoke变量转换为因子类型\n",
    "finance_data$type = factor(finance_data$type)\n",
    " \n",
    "# 基函数：x设置目标变量，fill设置填充色\n",
    "p2 = ggplot(finance_data, aes(x = res, fill = type)) +\n",
    "  # 密度曲线函数：alpha设置填充色透明度\n",
    "  geom_density(alpha = 0.3) +\n",
    "  labs(title = \"Density Plot of finance Data\")\n",
    "\n",
    "\n",
    "options(repr.plot.width = 10, repr.plot.height = 4)\n",
    "\n",
    "grid.arrange(p1, p2, ncol = 2, widths = c(0.4, 0.4), heights = c(0.6))"
   ]
  },
  {
   "cell_type": "code",
   "execution_count": 38,
   "metadata": {},
   "outputs": [
    {
     "data": {
      "image/png": "[encoded data removed]",
      "text/plain": [
       "plot without title"
      ]
     },
     "metadata": {
      "image/png": {
       "height": 240,
       "width": 600
      }
     },
     "output_type": "display_data"
    }
   ],
   "source": [
    "p1 <- ggplot(data.frame(res=energy_all_res), aes(sample = res)) +\n",
    "           stat_qq() +\n",
    "           stat_qq_line() +\n",
    "            labs(title = \"QQ Plot of energy all\")\n",
    "\n",
    "\n",
    "p2 <- ggplot(data.frame(res=energy_before_res), aes(sample = res)) +\n",
    "           stat_qq() +\n",
    "           stat_qq_line() +\n",
    "            labs(title = \"QQ Plot of energy before\")\n",
    "\n",
    "\n",
    "p3 <- ggplot(data.frame(res=energy_after_res), aes(sample = res)) +\n",
    "           stat_qq() +\n",
    "           stat_qq_line() +\n",
    "            labs(title = \"QQ Plot of energy after\")\n",
    "\n",
    "\n",
    "p4 <- ggplot(data.frame(res=finance_all_res), aes(sample = res)) +\n",
    "           stat_qq() +\n",
    "           stat_qq_line() +\n",
    "            labs(title = \"QQ Plot of finance all\")\n",
    "\n",
    "\n",
    "p5 <- ggplot(data.frame(res=finance_before_res), aes(sample = res)) +\n",
    "           stat_qq() +\n",
    "           stat_qq_line() +\n",
    "            labs(title = \"QQ Plot of finance before\")\n",
    "\n",
    "\n",
    "p6 <- ggplot(data.frame(res=finance_after_res), aes(sample = res)) +\n",
    "           stat_qq() +\n",
    "           stat_qq_line() +\n",
    "            labs(title = \"QQ Plot of finance after\")\n",
    "\n",
    "\n",
    "grid.arrange(p1, p2, p3, p4, p5, p6, ncol = 3, nrow=2)\n",
    "# widths = c(0.4, 0.4), heights = c(0.6)"
   ]
  },
  {
   "cell_type": "code",
   "execution_count": null,
   "metadata": {},
   "outputs": [],
   "source": []
  },
  {
   "cell_type": "code",
   "execution_count": null,
   "metadata": {},
   "outputs": [],
   "source": []
  },
  {
   "cell_type": "code",
   "execution_count": null,
   "metadata": {},
   "outputs": [],
   "source": []
  },
  {
   "cell_type": "code",
   "execution_count": null,
   "metadata": {},
   "outputs": [],
   "source": [
    "# 背景\n",
    "# 三个问题\n",
    "# 模型分析\n",
    "# weekly \n",
    "# copula - wjy"
   ]
  }
 ],
 "metadata": {
  "kernelspec": {
   "display_name": "R",
   "language": "R",
   "name": "ir"
  },
  "language_info": {
   "codemirror_mode": "r",
   "file_extension": ".r",
   "mimetype": "text/x-r-source",
   "name": "R",
   "pygments_lexer": "r",
   "version": "4.3.1"
  }
 },
 "nbformat": 4,
 "nbformat_minor": 2
}
