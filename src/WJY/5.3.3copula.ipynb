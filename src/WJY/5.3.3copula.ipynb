{
 "cells": [
  {
   "cell_type": "code",
   "execution_count": 63,
   "metadata": {},
   "outputs": [],
   "source": [
    "energy = read.table(\"../data/hcx_residuals_energy_after_event.txt\")\n",
    "# energy_res = energy$V2\n",
    "energy_res = energy$V1"
   ]
  },
  {
   "cell_type": "code",
   "execution_count": 64,
   "metadata": {},
   "outputs": [],
   "source": [
    "# standardized_residual_Finance.xlsx\n",
    "library(\"readxl\")\n",
    "\n",
    "finance = read_excel(\"../data/standardized_residual_Finance.xlsx\")\n",
    "finance_res = finance$V1"
   ]
  },
  {
   "cell_type": "code",
   "execution_count": 65,
   "metadata": {},
   "outputs": [],
   "source": [
    "library(VineCopula)\n",
    "library(rugarch)\n",
    "library(fGarch)"
   ]
  },
  {
   "cell_type": "code",
   "execution_count": 66,
   "metadata": {},
   "outputs": [
    {
     "data": {
      "image/png": "[encoded data removed]",
      "text/plain": [
       "Plot with title \"Histogram of finance_res\""
      ]
     },
     "metadata": {
      "image/png": {
       "height": 240,
       "width": 600
      }
     },
     "output_type": "display_data"
    }
   ],
   "source": [
    "options(repr.plot.width = 10, repr.plot.height = 4)\n",
    "par(mfrow = c(1, 2))\n",
    "p1 = hist(energy_res, breaks = 40)\n",
    "p2 = hist(finance_res, breaks = 40)\n",
    "par(mfrow = c(1, 1)) # return to the default"
   ]
  },
  {
   "cell_type": "code",
   "execution_count": 67,
   "metadata": {},
   "outputs": [
    {
     "data": {
      "text/html": [
       "490"
      ],
      "text/latex": [
       "490"
      ],
      "text/markdown": [
       "490"
      ],
      "text/plain": [
       "[1] 490"
      ]
     },
     "metadata": {},
     "output_type": "display_data"
    },
    {
     "data": {
      "text/html": [
       "490"
      ],
      "text/latex": [
       "490"
      ],
      "text/markdown": [
       "490"
      ],
      "text/plain": [
       "[1] 490"
      ]
     },
     "metadata": {},
     "output_type": "display_data"
    }
   ],
   "source": [
    "length(finance_res)\n",
    "length(energy_res)"
   ]
  },
  {
   "cell_type": "code",
   "execution_count": null,
   "metadata": {},
   "outputs": [],
   "source": []
  },
  {
   "cell_type": "code",
   "execution_count": null,
   "metadata": {},
   "outputs": [],
   "source": []
  },
  {
   "cell_type": "code",
   "execution_count": null,
   "metadata": {},
   "outputs": [],
   "source": []
  },
  {
   "cell_type": "code",
   "execution_count": null,
   "metadata": {},
   "outputs": [],
   "source": []
  },
  {
   "cell_type": "code",
   "execution_count": 69,
   "metadata": {},
   "outputs": [
    {
     "name": "stdout",
     "output_type": "stream",
     "text": [
      "\n",
      "*---------------------------------*\n",
      "*          GARCH Model Fit        *\n",
      "*---------------------------------*\n",
      "\n",
      "Conditional Variance Dynamics \t\n",
      "-----------------------------------\n",
      "GARCH Model\t: gjrGARCH(1,1)\n",
      "Mean Model\t: ARFIMA(0,0,0)\n",
      "Distribution\t: std \n",
      "\n",
      "Optimal Parameters\n",
      "------------------------------------\n",
      "        Estimate  Std. Error   t value Pr(>|t|)\n",
      "omega   0.000016    0.000003  4.738449 0.000002\n",
      "alpha1  0.000000    0.016871  0.000025 0.999980\n",
      "beta1   0.850374    0.022069 38.532481 0.000000\n",
      "gamma1  0.129332    0.043088  3.001584 0.002686\n",
      "shape   8.809450    2.915466  3.021626 0.002514\n",
      "\n",
      "Robust Standard Errors:\n",
      "        Estimate  Std. Error   t value Pr(>|t|)\n",
      "omega   0.000016    0.000006  2.928974 0.003401\n",
      "alpha1  0.000000    0.019388  0.000022 0.999982\n",
      "beta1   0.850374    0.026833 31.691173 0.000000\n",
      "gamma1  0.129332    0.044615  2.898819 0.003746\n",
      "shape   8.809450    2.876087  3.062998 0.002191\n",
      "\n",
      "LogLikelihood : 1511.485 \n",
      "\n",
      "Information Criteria\n",
      "------------------------------------\n",
      "                    \n",
      "Akaike       -5.7609\n",
      "Bayes        -5.7202\n",
      "Shibata      -5.7611\n",
      "Hannan-Quinn -5.7450\n",
      "\n",
      "Weighted Ljung-Box Test on Standardized Residuals\n",
      "------------------------------------\n",
      "                        statistic p-value\n",
      "Lag[1]                    0.01163  0.9141\n",
      "Lag[2*(p+q)+(p+q)-1][2]   0.03497  0.9682\n",
      "Lag[4*(p+q)+(p+q)-1][5]   1.06044  0.8458\n",
      "d.o.f=0\n",
      "H0 : No serial correlation\n",
      "\n",
      "Weighted Ljung-Box Test on Standardized Squared Residuals\n",
      "------------------------------------\n",
      "                        statistic p-value\n",
      "Lag[1]                     0.3778  0.5388\n",
      "Lag[2*(p+q)+(p+q)-1][5]    2.0382  0.6094\n",
      "Lag[4*(p+q)+(p+q)-1][9]    4.1996  0.5554\n",
      "d.o.f=2\n",
      "\n",
      "Weighted ARCH LM Tests\n",
      "------------------------------------\n",
      "            Statistic Shape Scale P-Value\n",
      "ARCH Lag[3]     1.297 0.500 2.000  0.2547\n",
      "ARCH Lag[5]     3.011 1.440 1.667  0.2882\n",
      "ARCH Lag[7]     4.770 2.315 1.543  0.2488\n",
      "\n",
      "Nyblom stability test\n",
      "------------------------------------\n",
      "Joint Statistic:  27.911\n",
      "Individual Statistics:             \n",
      "omega  1.4524\n",
      "alpha1 0.1465\n",
      "beta1  0.1039\n",
      "gamma1 0.2364\n",
      "shape  0.0415\n",
      "\n",
      "Asymptotic Critical Values (10% 5% 1%)\n",
      "Joint Statistic:     \t 1.28 1.47 1.88\n",
      "Individual Statistic:\t 0.35 0.47 0.75\n",
      "\n",
      "Sign Bias Test\n",
      "------------------------------------\n",
      "                   t-value   prob sig\n",
      "Sign Bias          1.40793 0.1598    \n",
      "Negative Sign Bias 0.45854 0.6468    \n",
      "Positive Sign Bias 0.06499 0.9482    \n",
      "Joint Effect       3.15180 0.3688    \n",
      "\n",
      "\n",
      "Adjusted Pearson Goodness-of-Fit Test:\n",
      "------------------------------------\n",
      "  group statistic p-value(g-1)\n",
      "1    20     15.93       0.6620\n",
      "2    30     21.88       0.8253\n",
      "3    40     29.28       0.8711\n",
      "4    50     42.49       0.7328\n",
      "\n",
      "\n",
      "Elapsed time : 0.4077511 \n",
      "\n"
     ]
    }
   ],
   "source": [
    "library(readxl)\n",
    "data <- read.csv(\"../data/恒生综合指数-金融业历史数据.csv\", header = TRUE, col.names = c(\"date\", \"close\", \"open\", \"high\", \"low\", \"volume\", \"variation\"))\n",
    "data$date <- as.Date(data$date)\n",
    "data$close <- as.numeric(gsub(\",\", \"\", data$close))\n",
    "sorted_index <- order(data$date)\n",
    "data <- data[sorted_index, ]\n",
    "\n",
    "# Finance_Index_After_Event<- na.omit(data)\n",
    "#Simple Return to Log Return\n",
    "close_prices=data$close\n",
    "log_return=diff(log(close_prices))\n",
    "\n",
    "\n",
    "library(rugarch)\n",
    "spec8<-ugarchspec(variance.model=list(model=\"gjrGARCH\",garchOrder=c(1,1)),mean.model=list(armaOrder=c(0,0),include.mean=FALSE),distribution.model=\"std\"\n",
    "                    ,fixed=c(NA,0,NA,NA,NA))\n",
    "m8<-ugarchfit(spec=spec8,data=log_return)\n",
    "print(m8)\n",
    "\n",
    "#Model Checking\n",
    "financial_residuals<-residuals(m8,standardize=TRUE)"
   ]
  },
  {
   "cell_type": "code",
   "execution_count": 70,
   "metadata": {},
   "outputs": [
    {
     "data": {
      "text/html": [
       "<style>\n",
       ".dl-inline {width: auto; margin:0; padding: 0}\n",
       ".dl-inline>dt, .dl-inline>dd {float: none; width: auto; display: inline-block}\n",
       ".dl-inline>dt::after {content: \":\\0020\"; padding-right: .5ex}\n",
       ".dl-inline>dt:not(:first-of-type) {padding-left: .5ex}\n",
       "</style><dl class=dl-inline><dt>omega</dt><dd>1.62190230968618e-05</dd><dt>alpha1</dt><dd>4.26018131027138e-07</dd><dt>beta1</dt><dd>0.850374330183909</dd><dt>gamma1</dt><dd>0.129332190912319</dd><dt>shape</dt><dd>8.80944996648854</dd></dl>\n"
      ],
      "text/latex": [
       "\\begin{description*}\n",
       "\\item[omega] 1.62190230968618e-05\n",
       "\\item[alpha1] 4.26018131027138e-07\n",
       "\\item[beta1] 0.850374330183909\n",
       "\\item[gamma1] 0.129332190912319\n",
       "\\item[shape] 8.80944996648854\n",
       "\\end{description*}\n"
      ],
      "text/markdown": [
       "omega\n",
       ":   1.62190230968618e-05alpha1\n",
       ":   4.26018131027138e-07beta1\n",
       ":   0.850374330183909gamma1\n",
       ":   0.129332190912319shape\n",
       ":   8.80944996648854\n",
       "\n"
      ],
      "text/plain": [
       "       omega       alpha1        beta1       gamma1        shape \n",
       "1.621902e-05 4.260181e-07 8.503743e-01 1.293322e-01 8.809450e+00 "
      ]
     },
     "metadata": {},
     "output_type": "display_data"
    }
   ],
   "source": [
    "coef(m8)"
   ]
  },
  {
   "cell_type": "code",
   "execution_count": 35,
   "metadata": {},
   "outputs": [],
   "source": [
    "# financial_residuals"
   ]
  },
  {
   "cell_type": "code",
   "execution_count": 36,
   "metadata": {},
   "outputs": [],
   "source": [
    "# finance_res"
   ]
  },
  {
   "cell_type": "code",
   "execution_count": null,
   "metadata": {},
   "outputs": [],
   "source": []
  },
  {
   "cell_type": "code",
   "execution_count": 49,
   "metadata": {},
   "outputs": [
    {
     "data": {
      "text/plain": [
       "\n",
       "*---------------------------------*\n",
       "*          GARCH Model Fit        *\n",
       "*---------------------------------*\n",
       "\n",
       "Conditional Variance Dynamics \t\n",
       "-----------------------------------\n",
       "GARCH Model\t: fiGARCH(1,1)\n",
       "Mean Model\t: ARFIMA(2,0,2)\n",
       "Distribution\t: std \n",
       "\n",
       "Optimal Parameters\n",
       "------------------------------------\n",
       "        Estimate  Std. Error   t value Pr(>|t|)\n",
       "ar1    -1.380110    0.016900  -81.6611 0.000000\n",
       "ar2    -0.949329    0.002504 -379.0993 0.000000\n",
       "ma1     1.407279    0.002875  489.4403 0.000000\n",
       "ma2     0.998828    0.000819 1220.1836 0.000000\n",
       "omega   0.000000          NA        NA       NA\n",
       "alpha1  0.088262    0.032712    2.6981 0.006973\n",
       "beta1   0.982124    0.000422 2329.4079 0.000000\n",
       "delta   0.999999    0.021690   46.1043 0.000000\n",
       "shape   7.013006    1.891189    3.7083 0.000209\n",
       "\n",
       "Robust Standard Errors:\n",
       "        Estimate  Std. Error   t value Pr(>|t|)\n",
       "ar1    -1.380110    0.029527  -46.7400 0.000000\n",
       "ar2    -0.949329    0.004980 -190.6229 0.000000\n",
       "ma1     1.407279    0.005035  279.5150 0.000000\n",
       "ma2     0.998828    0.001588  629.0208 0.000000\n",
       "omega   0.000000          NA        NA       NA\n",
       "alpha1  0.088262    0.031089    2.8390 0.004525\n",
       "beta1   0.982124    0.000472 2081.3847 0.000000\n",
       "delta   0.999999    0.023905   41.8318 0.000000\n",
       "shape   7.013006    1.780314    3.9392 0.000082\n",
       "\n",
       "LogLikelihood : 1416.205 \n",
       "\n",
       "Information Criteria\n",
       "------------------------------------\n",
       "                    \n",
       "Akaike       -5.3851\n",
       "Bayes        -5.3200\n",
       "Shibata      -5.3856\n",
       "Hannan-Quinn -5.3596\n",
       "\n",
       "Weighted Ljung-Box Test on Standardized Residuals\n",
       "------------------------------------\n",
       "                         statistic p-value\n",
       "Lag[1]                       1.322  0.2503\n",
       "Lag[2*(p+q)+(p+q)-1][11]     7.290  0.0209\n",
       "Lag[4*(p+q)+(p+q)-1][19]    10.335  0.4136\n",
       "d.o.f=4\n",
       "H0 : No serial correlation\n",
       "\n",
       "Weighted Ljung-Box Test on Standardized Squared Residuals\n",
       "------------------------------------\n",
       "                        statistic p-value\n",
       "Lag[1]                     0.2131  0.6444\n",
       "Lag[2*(p+q)+(p+q)-1][5]    3.1199  0.3856\n",
       "Lag[4*(p+q)+(p+q)-1][9]    5.7343  0.3299\n",
       "d.o.f=2\n",
       "\n",
       "Weighted ARCH LM Tests\n",
       "------------------------------------\n",
       "            Statistic Shape Scale P-Value\n",
       "ARCH Lag[3]     2.979 0.500 2.000 0.08433\n",
       "ARCH Lag[5]     6.068 1.440 1.667 0.05791\n",
       "ARCH Lag[7]     6.938 2.315 1.543 0.08957\n",
       "\n",
       "Nyblom stability test\n",
       "------------------------------------\n",
       "Joint Statistic:  1.7256\n",
       "Individual Statistics:              \n",
       "ar1    0.17059\n",
       "ar2    0.04661\n",
       "ma1    0.03579\n",
       "ma2    0.08487\n",
       "alpha1 0.20207\n",
       "beta1  0.32410\n",
       "delta  0.63735\n",
       "shape  0.18150\n",
       "\n",
       "Asymptotic Critical Values (10% 5% 1%)\n",
       "Joint Statistic:     \t 1.89 2.11 2.59\n",
       "Individual Statistic:\t 0.35 0.47 0.75\n",
       "\n",
       "Sign Bias Test\n",
       "------------------------------------\n",
       "                   t-value   prob sig\n",
       "Sign Bias           0.6654 0.5061    \n",
       "Negative Sign Bias  0.4601 0.6456    \n",
       "Positive Sign Bias  0.5894 0.5558    \n",
       "Joint Effect        0.5849 0.8999    \n",
       "\n",
       "\n",
       "Adjusted Pearson Goodness-of-Fit Test:\n",
       "------------------------------------\n",
       "  group statistic p-value(g-1)\n",
       "1    20     13.63       0.8045\n",
       "2    30     24.74       0.6915\n",
       "3    40     25.45       0.9537\n",
       "4    50     37.13       0.8931\n",
       "\n",
       "\n",
       "Elapsed time : 0.633646 \n"
      ]
     },
     "metadata": {},
     "output_type": "display_data"
    }
   ],
   "source": [
    "library(readxl)\n",
    "data <- read.csv(\"../data/恒生综合指数-能源业历史数据.csv\", header = TRUE, col.names = c(\"date\", \"close\", \"open\", \"high\", \"low\", \"volume\", \"variation\"))\n",
    "data$date <- as.Date(data$date)\n",
    "data$close <- as.numeric(gsub(\",\", \"\", data$close))\n",
    "sorted_index <- order(data$date)\n",
    "data <- data[sorted_index, ]\n",
    "\n",
    "# Finance_Index_After_Event<- na.omit(data)\n",
    "#Simple Return to Log Return\n",
    "close_prices=data$close\n",
    "log_return=diff(log(close_prices))\n",
    "\n",
    "\n",
    "library(rugarch)\n",
    "\n",
    "spec_fi=ugarchspec(variance.model = list(model = \"fiGARCH\", garchOrder = c(1,1)),mean.model = list(armaOrder = c(2,2), include.mean = F),distribution.model = \"std\")\n",
    "setfixed(spec_fi)<-list(omega=0)\n",
    "\n",
    "model_fi=ugarchfit(spec=spec_fi,data=log_return)\n",
    "model_fi  ### see output\n",
    "\n",
    "#Model Checking\n",
    "energy_residuals<-residuals(model_fi,standardize=T)"
   ]
  },
  {
   "cell_type": "code",
   "execution_count": 37,
   "metadata": {},
   "outputs": [],
   "source": [
    "# energy_residuals"
   ]
  },
  {
   "cell_type": "code",
   "execution_count": 38,
   "metadata": {},
   "outputs": [],
   "source": [
    "# energy_res"
   ]
  },
  {
   "cell_type": "code",
   "execution_count": null,
   "metadata": {},
   "outputs": [],
   "source": []
  },
  {
   "cell_type": "code",
   "execution_count": null,
   "metadata": {},
   "outputs": [],
   "source": []
  },
  {
   "cell_type": "code",
   "execution_count": null,
   "metadata": {},
   "outputs": [],
   "source": []
  },
  {
   "cell_type": "code",
   "execution_count": 71,
   "metadata": {},
   "outputs": [
    {
     "data": {
      "text/plain": [
       "\n",
       "\tAsymptotic one-sample Kolmogorov-Smirnov test\n",
       "\n",
       "data:  x1\n",
       "D = 0.016935, p-value = 0.999\n",
       "alternative hypothesis: two-sided\n"
      ]
     },
     "metadata": {},
     "output_type": "display_data"
    },
    {
     "data": {
      "text/plain": [
       "\n",
       "\tAsymptotic one-sample Kolmogorov-Smirnov test\n",
       "\n",
       "data:  x2\n",
       "D = 0.041404, p-value = 0.3704\n",
       "alternative hypothesis: two-sided\n"
      ]
     },
     "metadata": {},
     "output_type": "display_data"
    },
    {
     "data": {
      "image/png": "[encoded data removed]",
      "text/plain": [
       "plot without title"
      ]
     },
     "metadata": {
      "image/png": {
       "height": 240,
       "width": 600
      }
     },
     "output_type": "display_data"
    }
   ],
   "source": [
    "u1<-pstd(energy_res,0,1,7.004194) # from project_ts.html\n",
    "# u2<-pstd(energy_res,0,1,nu=7.884)#概率积分转换\n",
    "# 1.55489180343118xi0.939194610023982\n",
    "u2<-pstd(finance_res,0,1,8.80944996648854) # xue bugei wozijisuande\n",
    "#psstd(q, mean = 0, sd = 1, nu = 5, xi = 1.5)\n",
    "#nu为偏t分布的自由度，xi为偏度系数\n",
    "\n",
    "x1<-as.matrix(u1)\n",
    "x2<-as.matrix(u2)\n",
    "ks.test(x1,'punif')\n",
    "ks.test(x2,'punif')\n",
    "# #K-S检验,原假设为u1、u2服从均匀分布\n",
    "\n",
    "# #K-S检验,原假设为u1、u2服从均匀分布\n",
    "options(repr.plot.width = 10, repr.plot.height = 4)\n",
    "par(mfrow = c(1, 2))\n",
    "p1 = qqplot(x1,u1)\n",
    "p2 = qqplot(x2,u2)\n",
    "par(mfrow = c(1, 1)) # return to the default\n"
   ]
  },
  {
   "cell_type": "code",
   "execution_count": 72,
   "metadata": {},
   "outputs": [
    {
     "name": "stderr",
     "output_type": "stream",
     "text": [
      "Warning message:\n",
      "\"\u001b[1m\u001b[22mThe dot-dot notation (`..level..`) was deprecated in ggplot2 3.4.0.\n",
      "\u001b[36mℹ\u001b[39m Please use `after_stat(level)` instead.\"\n"
     ]
    },
    {
     "data": {
      "image/png": "[encoded data removed]",
      "text/plain": [
       "plot without title"
      ]
     },
     "metadata": {
      "image/png": {
       "height": 240,
       "width": 600
      }
     },
     "output_type": "display_data"
    }
   ],
   "source": [
    "library(ggplot2)\n",
    "library(gridExtra)\n",
    "\n",
    "p1 <- ggplot()\n",
    "# 基函数\n",
    "p1 = ggplot(data.frame(energy=u1, finance=u2), aes(x = energy, y = finance)) +\n",
    "  # 密度图函数：colour设置等高线颜色\n",
    "  stat_density2d(aes(colour = ..level..))\n",
    "\n",
    "p2 <- ggplot()\n",
    "p2 =ggplot(data.frame(energy=u1, finance=u2), aes(x = energy, y = finance)) +\n",
    "  # 散点图函数\n",
    "  geom_point() +\n",
    "  # 密度图函数：alpha设置填充透明度数据为密度，geom设置绘制栅格图\n",
    "  stat_density2d(aes(alpha = ..density..), geom = \"raster\", contour = FALSE)\n",
    "\n",
    "options(repr.plot.width = 10, repr.plot.height = 4)\n",
    "\n",
    "grid.arrange(p1, p2, ncol = 2, widths = c(0.4, 0.4), heights = c(0.6))"
   ]
  },
  {
   "cell_type": "code",
   "execution_count": 73,
   "metadata": {},
   "outputs": [
    {
     "name": "stdout",
     "output_type": "stream",
     "text": [
      "Family\n",
      "------ \n",
      "No:    1\n",
      "Name:  Gaussian\n",
      "\n",
      "Parameter(s)\n",
      "------------\n",
      "par:  0.62  (SE = 0.02)\n",
      "\n",
      "Dependence measures\n",
      "-------------------\n",
      "Kendall's tau:    0.42 (empirical = 0.44, p value < 0.01)\n",
      "Upper TD:         0 \n",
      "Lower TD:         0 \n",
      "\n",
      "Fit statistics\n",
      "--------------\n",
      "logLik:  119.74 \n",
      "AIC:    -237.49 \n",
      "BIC:    -233.29 \n",
      "\n"
     ]
    }
   ],
   "source": [
    "Cop1=BiCopSelect(u1,u2,familyset = c(1,2,3,4,5,6,7,9),se =TRUE, rotations = FALSE)\n",
    "#Copula估计，se表示计算标准误， rotation表示是否考虑旋转Copula，选择标准默认是AIC\n",
    "#familyset是copula类型集合，主要是选择几种常见的copula族（norm t clayton gumbel frank SJC）\n",
    "summary(Cop1)#查看估计结果\n",
    "#对于依赖参数和尾部相关系数、秩相关系数间的转换，可以使用BiCopPar2TailDep和BiCopPar2Tau函数"
   ]
  },
  {
   "cell_type": "code",
   "execution_count": 82,
   "metadata": {},
   "outputs": [
    {
     "name": "stdout",
     "output_type": "stream",
     "text": [
      "Family\n",
      "------ \n",
      "No:    9\n",
      "Name:  BB7\n",
      "\n",
      "Parameter(s)\n",
      "------------\n",
      "par:  1.46  (SE = 0.09)\n",
      "par2: 0.78  (SE = 0.1)\n",
      "Dependence measures\n",
      "-------------------\n",
      "Kendall's tau:    0.39 (empirical = 0.44, p value < 0.01)\n",
      "Upper TD:         0.39 \n",
      "Lower TD:         0.41 \n",
      "\n",
      "Fit statistics\n",
      "--------------\n",
      "logLik:  113.33 \n",
      "AIC:    -222.67 \n",
      "BIC:    -214.28 \n",
      "\n"
     ]
    }
   ],
   "source": [
    "Cop1=BiCopSelect(u1,u2,familyset = c(9),se =TRUE, rotations = FALSE)\n",
    "#Copula估计，se表示计算标准误， rotation表示是否考虑旋转Copula，选择标准默认是AIC\n",
    "#familyset是copula类型集合，主要是选择几种常见的copula族（norm t clayton gumbel frank SJC）\n",
    "summary(Cop1)#查看估计结果\n",
    "#对于依赖参数和尾部相关系数、秩相关系数间的转换，可以使用BiCopPar2TailDep和BiCopPar2Tau函数"
   ]
  },
  {
   "cell_type": "code",
   "execution_count": null,
   "metadata": {},
   "outputs": [],
   "source": []
  },
  {
   "cell_type": "code",
   "execution_count": 83,
   "metadata": {},
   "outputs": [
    {
     "name": "stderr",
     "output_type": "stream",
     "text": [
      "Warning message:\n",
      "\"package 'psych' was built under R version 4.3.3\"\n",
      "\n",
      "Attaching package: 'psych'\n",
      "\n",
      "\n",
      "The following objects are masked from 'package:ggplot2':\n",
      "\n",
      "    %+%, alpha\n",
      "\n",
      "\n"
     ]
    },
    {
     "data": {
      "text/html": [
       "<table class=\"dataframe\">\n",
       "<caption>A matrix: 2 × 2 of type dbl</caption>\n",
       "<thead>\n",
       "\t<tr><th></th><th scope=col>energy</th><th scope=col>finance</th></tr>\n",
       "</thead>\n",
       "<tbody>\n",
       "\t<tr><th scope=row>energy</th><td>1.000000</td><td>0.612708</td></tr>\n",
       "\t<tr><th scope=row>finance</th><td>0.612708</td><td>1.000000</td></tr>\n",
       "</tbody>\n",
       "</table>\n"
      ],
      "text/latex": [
       "A matrix: 2 × 2 of type dbl\n",
       "\\begin{tabular}{r|ll}\n",
       "  & energy & finance\\\\\n",
       "\\hline\n",
       "\tenergy & 1.000000 & 0.612708\\\\\n",
       "\tfinance & 0.612708 & 1.000000\\\\\n",
       "\\end{tabular}\n"
      ],
      "text/markdown": [
       "\n",
       "A matrix: 2 × 2 of type dbl\n",
       "\n",
       "| <!--/--> | energy | finance |\n",
       "|---|---|---|\n",
       "| energy | 1.000000 | 0.612708 |\n",
       "| finance | 0.612708 | 1.000000 |\n",
       "\n"
      ],
      "text/plain": [
       "        energy   finance \n",
       "energy  1.000000 0.612708\n",
       "finance 0.612708 1.000000"
      ]
     },
     "metadata": {},
     "output_type": "display_data"
    },
    {
     "data": {
      "image/png": "[encoded data removed]",
      "text/plain": [
       "plot without title"
      ]
     },
     "metadata": {
      "image/png": {
       "height": 240,
       "width": 600
      }
     },
     "output_type": "display_data"
    }
   ],
   "source": [
    "library(psych)\n",
    "data1 = data.frame(energy=energy_res, finance=finance_res)\n",
    "cor(data1, method='spearman')\n",
    "pairs.panels(data1)\n",
    "# The lower off diagonal draws scatter plots, the diagonal histograms, the upper off diagonal reports the Pearson correlation (with pairwise deletion)."
   ]
  },
  {
   "cell_type": "code",
   "execution_count": 84,
   "metadata": {},
   "outputs": [
    {
     "data": {
      "text/html": [
       "<table class=\"dataframe\">\n",
       "<caption>A matrix: 2 × 2 of type dbl</caption>\n",
       "<thead>\n",
       "\t<tr><th></th><th scope=col>energy</th><th scope=col>finance</th></tr>\n",
       "</thead>\n",
       "<tbody>\n",
       "\t<tr><th scope=row>energy</th><td>1.000000</td><td>0.612708</td></tr>\n",
       "\t<tr><th scope=row>finance</th><td>0.612708</td><td>1.000000</td></tr>\n",
       "</tbody>\n",
       "</table>\n"
      ],
      "text/latex": [
       "A matrix: 2 × 2 of type dbl\n",
       "\\begin{tabular}{r|ll}\n",
       "  & energy & finance\\\\\n",
       "\\hline\n",
       "\tenergy & 1.000000 & 0.612708\\\\\n",
       "\tfinance & 0.612708 & 1.000000\\\\\n",
       "\\end{tabular}\n"
      ],
      "text/markdown": [
       "\n",
       "A matrix: 2 × 2 of type dbl\n",
       "\n",
       "| <!--/--> | energy | finance |\n",
       "|---|---|---|\n",
       "| energy | 1.000000 | 0.612708 |\n",
       "| finance | 0.612708 | 1.000000 |\n",
       "\n"
      ],
      "text/plain": [
       "        energy   finance \n",
       "energy  1.000000 0.612708\n",
       "finance 0.612708 1.000000"
      ]
     },
     "metadata": {},
     "output_type": "display_data"
    },
    {
     "data": {
      "image/png": "[encoded data removed]",
      "text/plain": [
       "plot without title"
      ]
     },
     "metadata": {
      "image/png": {
       "height": 240,
       "width": 600
      }
     },
     "output_type": "display_data"
    }
   ],
   "source": [
    "library(psych)\n",
    "data2 = data.frame(energy=u1, finance=u2)\n",
    "cor(data2,method='spearman')\n",
    "pairs.panels(data2)"
   ]
  },
  {
   "cell_type": "code",
   "execution_count": null,
   "metadata": {},
   "outputs": [],
   "source": []
  },
  {
   "cell_type": "code",
   "execution_count": null,
   "metadata": {},
   "outputs": [],
   "source": []
  }
 ],
 "metadata": {
  "kernelspec": {
   "display_name": "R",
   "language": "R",
   "name": "ir"
  },
  "language_info": {
   "codemirror_mode": "r",
   "file_extension": ".r",
   "mimetype": "text/x-r-source",
   "name": "R",
   "pygments_lexer": "r",
   "version": "4.3.1"
  }
 },
 "nbformat": 4,
 "nbformat_minor": 2
}
